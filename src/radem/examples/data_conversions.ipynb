{
 "cells": [
  {
   "cell_type": "markdown",
   "metadata": {},
   "source": [
    "# Data Conversion with the `radem` library\n",
    "\n",
    "In this notebook, we’ll explore how to use the `radem` library for efficient data conversion between various formats, specifically .cdf, .hdf, and .csv. Working with multiple file formats is common in data science and scientific computing, and each format comes with unique benefits and challenges.\n",
    "\n",
    "This notebook will guide you through the basic usage of the radem library to:\n",
    " - Convert files from one format to another with ease,\n",
    " - Handle metadata and complex data structures during conversions,\n",
    " - Perform conversions while preserving data integrity and accessibility."
   ]
  },
  {
   "cell_type": "code",
   "execution_count": 1,
   "metadata": {},
   "outputs": [],
   "source": [
    "import radem\n",
    "from pathlib import Path"
   ]
  },
  {
   "cell_type": "code",
   "execution_count": 2,
   "metadata": {},
   "outputs": [],
   "source": [
    "df_p, df_e, df_d, df_h = radem.loaders.load_science_cdfs(Path(\"../../../data/raw\"))"
   ]
  },
  {
   "cell_type": "code",
   "execution_count": 3,
   "metadata": {},
   "outputs": [
    {
     "name": "stdout",
     "output_type": "stream",
     "text": [
      "                     time  bin  value\n",
      "0     2023-09-01 00:00:56    1      6\n",
      "1     2023-09-01 00:00:56    2    222\n",
      "2     2023-09-01 00:00:56    3     27\n",
      "3     2023-09-01 00:00:56    4     21\n",
      "4     2023-09-01 00:00:56    5     18\n",
      "...                   ...  ...    ...\n",
      "12387 2024-10-08 22:56:09    4      0\n",
      "12388 2024-10-08 22:56:09    5      0\n",
      "12389 2024-10-08 22:56:09    6      0\n",
      "12390 2024-10-08 22:56:09    7      0\n",
      "12392 2024-10-08 22:56:09    9      0\n",
      "\n",
      "[5194845 rows x 3 columns]\n"
     ]
    }
   ],
   "source": [
    "print(df_p)"
   ]
  },
  {
   "cell_type": "markdown",
   "metadata": {},
   "source": [
    "## Saving and loading from a `.csv` file"
   ]
  },
  {
   "cell_type": "code",
   "execution_count": 4,
   "metadata": {},
   "outputs": [],
   "source": [
    "radem.loaders.save_csv(df_p, Path(\"../../../data/processed/protons.csv\"))\n",
    "radem.loaders.save_csv(df_e, Path(\"../../../data/processed/electrons.csv\"))\n",
    "radem.loaders.save_csv(df_d, Path(\"../../../data/processed/dd.csv\"))\n",
    "radem.loaders.save_csv(df_h, Path(\"../../../data/processed/heavy_ions.csv\"))"
   ]
  },
  {
   "cell_type": "code",
   "execution_count": 5,
   "metadata": {},
   "outputs": [],
   "source": [
    "df_p = radem.loaders.load_csv(Path(\"../../../data/processed/protons.csv\"))\n",
    "df_e = radem.loaders.load_csv(Path(\"../../../data/processed/electrons.csv\"))\n",
    "df_d = radem.loaders.load_csv(Path(\"../../../data/processed/dd.csv\"))\n",
    "df_h = radem.loaders.load_csv(Path(\"../../../data/processed/heavy_ions.csv\"))"
   ]
  },
  {
   "cell_type": "code",
   "execution_count": 6,
   "metadata": {},
   "outputs": [
    {
     "name": "stdout",
     "output_type": "stream",
     "text": [
      "                       time  bin  value\n",
      "0       2023-09-01 00:00:56    1      6\n",
      "1       2023-09-01 00:00:56    2    222\n",
      "2       2023-09-01 00:00:56    3     27\n",
      "3       2023-09-01 00:00:56    4     21\n",
      "4       2023-09-01 00:00:56    5     18\n",
      "...                     ...  ...    ...\n",
      "5194840 2024-10-08 22:56:09    4      0\n",
      "5194841 2024-10-08 22:56:09    5      0\n",
      "5194842 2024-10-08 22:56:09    6      0\n",
      "5194843 2024-10-08 22:56:09    7      0\n",
      "5194844 2024-10-08 22:56:09    9      0\n",
      "\n",
      "[5194845 rows x 3 columns]\n"
     ]
    }
   ],
   "source": [
    "print(df_p)"
   ]
  },
  {
   "cell_type": "markdown",
   "metadata": {},
   "source": [
    "## Using the HDF4 and HDF5 file formats"
   ]
  },
  {
   "cell_type": "code",
   "execution_count": 7,
   "metadata": {},
   "outputs": [],
   "source": [
    "radem.loaders.save_hdf5(\"../../../data/processed/data.h5\", df_p, df_e, df_d, df_h)"
   ]
  },
  {
   "cell_type": "code",
   "execution_count": 8,
   "metadata": {},
   "outputs": [],
   "source": [
    "df_p, df_e, df_d, df_h = radem.loaders.load_hdf5(\"../../../data/processed/data.h5\")"
   ]
  },
  {
   "cell_type": "code",
   "execution_count": 9,
   "metadata": {},
   "outputs": [
    {
     "name": "stdout",
     "output_type": "stream",
     "text": [
      "         bin                time  value\n",
      "0          1 2023-09-01 00:00:56      6\n",
      "1          2 2023-09-01 00:00:56    222\n",
      "2          3 2023-09-01 00:00:56     27\n",
      "3          4 2023-09-01 00:00:56     21\n",
      "4          5 2023-09-01 00:00:56     18\n",
      "...      ...                 ...    ...\n",
      "5194840    4 2024-10-08 22:56:09      0\n",
      "5194841    5 2024-10-08 22:56:09      0\n",
      "5194842    6 2024-10-08 22:56:09      0\n",
      "5194843    7 2024-10-08 22:56:09      0\n",
      "5194844    9 2024-10-08 22:56:09      0\n",
      "\n",
      "[5194845 rows x 3 columns]\n"
     ]
    }
   ],
   "source": [
    "print(df_p)"
   ]
  }
 ],
 "metadata": {
  "kernelspec": {
   "display_name": ".venv",
   "language": "python",
   "name": "python3"
  },
  "language_info": {
   "codemirror_mode": {
    "name": "ipython",
    "version": 3
   },
   "file_extension": ".py",
   "mimetype": "text/x-python",
   "name": "python",
   "nbconvert_exporter": "python",
   "pygments_lexer": "ipython3",
   "version": "3.12.7"
  }
 },
 "nbformat": 4,
 "nbformat_minor": 2
}
