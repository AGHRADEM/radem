{
 "cells": [
  {
   "cell_type": "markdown",
   "metadata": {},
   "source": [
    "# Data Conversion with the `radem` library\n",
    "\n",
    "In this notebook, we’ll explore how to use the `radem` library for efficient data conversion between various formats, specifically .cdf, .hdf, and .csv. Working with multiple file formats is common in data science and scientific computing, and each format comes with unique benefits and challenges.\n",
    "\n",
    "This notebook will guide you through the basic usage of the radem library to:\n",
    " - Convert files from one format to another with ease,\n",
    " - Handle metadata and complex data structures during conversions,\n",
    " - Perform conversions while preserving data integrity and accessibility."
   ]
  },
  {
   "cell_type": "code",
   "execution_count": 4,
   "metadata": {},
   "outputs": [],
   "source": [
    "import radem\n",
    "from pathlib import Path"
   ]
  },
  {
   "cell_type": "code",
   "execution_count": 5,
   "metadata": {},
   "outputs": [],
   "source": [
    "df_p, df_e, df_d, df_h = radem.loaders.load_science_cdfs(Path(\"../../../data/raw\"))"
   ]
  }
 ],
 "metadata": {
  "kernelspec": {
   "display_name": ".venv",
   "language": "python",
   "name": "python3"
  },
  "language_info": {
   "codemirror_mode": {
    "name": "ipython",
    "version": 3
   },
   "file_extension": ".py",
   "mimetype": "text/x-python",
   "name": "python",
   "nbconvert_exporter": "python",
   "pygments_lexer": "ipython3",
   "version": "3.12.7"
  }
 },
 "nbformat": 4,
 "nbformat_minor": 2
}
